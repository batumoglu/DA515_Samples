{
 "cells": [
  {
   "cell_type": "markdown",
   "metadata": {},
   "source": [
    "# Personal Credit Scoring\n",
    "\n",
    "In this week, we are going to predict credit card default status of customers. For this purpose, we are going to use a modified version (by me!!) of the dataset of Yeh and Lien (2009). You can download the original dataset from : http://archive.ics.uci.edu/ml/datasets/default+of+credit+card+clients\n",
    "\n",
    "We are going to use supervised learning as we have access to labeled data. \n",
    "\n",
    "## What are we going to do?\n",
    "\n",
    "* We are going to use supervised learning in order to predict customers who are going to default on their payments for next month, based on their previous patterns (6 months).\n",
    "* We are going to study and preprocess data and generate new features.\n",
    "* We are going to evaluate the success of different approaches that we use.\n",
    "* We are going to tune the classifier that we use and do feature selection.\n",
    "\n",
    "First, we read training and testing data."
   ]
  },
  {
   "cell_type": "code",
   "execution_count": 1,
   "metadata": {
    "collapsed": false
   },
   "outputs": [
    {
     "name": "stdout",
     "output_type": "stream",
     "text": [
      "    CUSTOMER_ID  LIMIT_BAL     SEX   EDUCATION MARRIAGE   AGE  PAYMENT_1  \\\n",
      "0  461090387729    10000.0    Male         NaN  Married  43.0         -1   \n",
      "1  456333788060    10000.0  Female         NaN   Single  24.0         -1   \n",
      "2  530658128376    10000.0  Female         NaN   Single  21.0          0   \n",
      "3  546506894510    10000.0    Male         NaN   Single  35.0          3   \n",
      "4  469501329931    10000.0    Male  Gradschool   Single  47.0          0   \n",
      "\n",
      "   PAYMENT_2  PAYMENT_3  PAYMENT_4   ...     REMAINING_AMOUNT_4  \\\n",
      "0          0          0          0   ...                      0   \n",
      "1          0          0          0   ...                   2583   \n",
      "2          0          0          0   ...                   8099   \n",
      "3          2          0          0   ...                   8838   \n",
      "4          0          0         -1   ...                   2640   \n",
      "\n",
      "   REMAINING_AMOUNT_5  REMAINING_AMOUNT_6  PAYMENT_AMOUNT_1  PAYMENT_AMOUNT_2  \\\n",
      "0                   0                   0              2537              1000   \n",
      "1                   0                   0              1500              2000   \n",
      "2                   0                   0              1192              1000   \n",
      "3                   0                   0                25              4000   \n",
      "4                 695                 738              1000                 0   \n",
      "\n",
      "   PAYMENT_AMOUNT_3  PAYMENT_AMOUNT_4  PAYMENT_AMOUNT_5  PAYMENT_AMOUNT_6  \\\n",
      "0                 0                 0                 0                 0   \n",
      "1               583                 0                 0                 0   \n",
      "2               162                 0                 0                 0   \n",
      "3                 0              1000                 0                 0   \n",
      "4              2640               695               738                 0   \n",
      "\n",
      "   default  \n",
      "0        1  \n",
      "1        0  \n",
      "2        0  \n",
      "3        0  \n",
      "4        0  \n",
      "\n",
      "[5 rows x 25 columns]\n",
      "CUSTOMER_ID\n",
      "LIMIT_BAL\n",
      "SEX\n",
      "EDUCATION\n",
      "MARRIAGE\n",
      "AGE\n",
      "PAYMENT_1\n",
      "PAYMENT_2\n",
      "PAYMENT_3\n",
      "PAYMENT_4\n",
      "PAYMENT_5\n",
      "PAYMENT_6\n",
      "REMAINING_AMOUNT_1\n",
      "REMAINING_AMOUNT_2\n",
      "REMAINING_AMOUNT_3\n",
      "REMAINING_AMOUNT_4\n",
      "REMAINING_AMOUNT_5\n",
      "REMAINING_AMOUNT_6\n",
      "PAYMENT_AMOUNT_1\n",
      "PAYMENT_AMOUNT_2\n",
      "PAYMENT_AMOUNT_3\n",
      "PAYMENT_AMOUNT_4\n",
      "PAYMENT_AMOUNT_5\n",
      "PAYMENT_AMOUNT_6\n",
      "default\n"
     ]
    }
   ],
   "source": [
    "%matplotlib inline\n",
    "import pandas as pd\n",
    "import numpy as np\n",
    "import matplotlib.pyplot as plt\n",
    "\n",
    "df_train = pd.read_excel('Credit_Scoring_train.xls')\n",
    "df_test = pd.read_excel('Credit_Scoring_test.xls')\n",
    "\n",
    "print(df_train.head())\n",
    "\n",
    "for i in df_train.columns:\n",
    "    print(i)"
   ]
  },
  {
   "cell_type": "markdown",
   "metadata": {},
   "source": [
    "## Data Preparation\n",
    "\n",
    "You can find the meaning of the columns in data.\n",
    "\n",
    "* CUSTOMER_ID: Unique ID for each customer.\n",
    "* LIMIT_BAL: Amount of the credit limit.\n",
    "* SEX: Gender (Male, Female). \n",
    "* EDUCATION: Education (Gradschool, University, Highschool). \n",
    "* MARRIAGE: Marital status (Married, Single). \n",
    "* AGE: Age (year). \n",
    "* PAYMENT_1 - PAYMENT_6: History of past payment delay (1 being September 2005 and 6 being April 2005) in months.\n",
    "* REMAINING_AMOUNT_1 - REMAINING_AMOUNT_6: Amount owed to bank (1 being September 2005 and 6 being April 2005) \n",
    "* PAYMENT_AMOUNT_1 - PAYMENT_AMOUNT_6: Amount of previous payment (1 being September 2005 and 6 being April 2005) \n",
    "* default: Target variable, status of default for next month (0 = On time, 1 = Late)\n",
    "\n",
    "\n",
    "First let us examine numerical columns and see if there are missing values. "
   ]
  },
  {
   "cell_type": "code",
   "execution_count": 2,
   "metadata": {
    "collapsed": false,
    "scrolled": false
   },
   "outputs": [
    {
     "name": "stdout",
     "output_type": "stream",
     "text": [
      "(19800, 25)\n",
      "count      19797.000000\n",
      "mean      167964.220842\n",
      "std       129539.225759\n",
      "min        10000.000000\n",
      "25%        50000.000000\n",
      "50%       140000.000000\n",
      "75%       240000.000000\n",
      "max      1000000.000000\n",
      "Name: LIMIT_BAL, dtype: float64\n",
      "count    19781.000000\n",
      "mean        35.540064\n",
      "std          9.220722\n",
      "min         21.000000\n",
      "25%         28.000000\n",
      "50%         34.000000\n",
      "75%         41.000000\n",
      "max         79.000000\n",
      "Name: AGE, dtype: float64\n",
      "       REMAINING_AMOUNT_1  REMAINING_AMOUNT_2  REMAINING_AMOUNT_3  \\\n",
      "count        19800.000000        19800.000000        1.980000e+04   \n",
      "mean         51265.968131        49428.558232        4.719719e+04   \n",
      "std          73465.137845        71323.105122        6.942574e+04   \n",
      "min        -165580.000000       -33350.000000       -1.572640e+05   \n",
      "25%           3605.750000         3066.250000        2.694750e+03   \n",
      "50%          22357.500000        21394.000000        2.010050e+04   \n",
      "75%          66868.750000        64229.500000        6.039650e+04   \n",
      "max         964511.000000       983931.000000        1.664089e+06   \n",
      "\n",
      "       REMAINING_AMOUNT_4  REMAINING_AMOUNT_5  REMAINING_AMOUNT_6  \n",
      "count        19800.000000        19800.000000        19800.000000  \n",
      "mean         43617.471111        40696.433485        39142.899798  \n",
      "std          64693.959172        61500.580818        60140.545390  \n",
      "min        -170000.000000       -81334.000000      -339603.000000  \n",
      "25%           2312.500000         1761.750000         1256.000000  \n",
      "50%          19147.000000        18129.500000        17177.000000  \n",
      "75%          55406.500000        50837.000000        49512.250000  \n",
      "max         891586.000000       927171.000000       961664.000000  \n",
      "          PAYMENT_1     PAYMENT_2     PAYMENT_3     PAYMENT_4     PAYMENT_5  \\\n",
      "count  19800.000000  19800.000000  19800.000000  19800.000000  19800.000000   \n",
      "mean       0.074646     -0.012374     -0.034747     -0.078384     -0.113182   \n",
      "std        0.986337      1.029932      1.020871      0.982815      0.940187   \n",
      "min       -1.000000     -1.000000     -1.000000     -1.000000     -1.000000   \n",
      "25%       -1.000000     -1.000000     -1.000000     -1.000000     -1.000000   \n",
      "50%        0.000000      0.000000      0.000000      0.000000      0.000000   \n",
      "75%        0.000000      0.000000      0.000000      0.000000      0.000000   \n",
      "max        8.000000      7.000000      8.000000      7.000000      7.000000   \n",
      "\n",
      "          PAYMENT_6  PAYMENT_AMOUNT_1  PAYMENT_AMOUNT_2  PAYMENT_AMOUNT_3  \\\n",
      "count  19800.000000      19800.000000      1.980000e+04      19800.000000   \n",
      "mean      -0.128333       5674.351010      5.914844e+03       5300.064646   \n",
      "std        0.946333      16069.451498      2.249296e+04      17327.253010   \n",
      "min       -1.000000          0.000000      0.000000e+00          0.000000   \n",
      "25%       -1.000000       1000.000000      8.315000e+02        396.000000   \n",
      "50%        0.000000       2124.000000      2.018000e+03       1822.000000   \n",
      "75%        0.000000       5037.250000      5.000000e+03       4626.250000   \n",
      "max        7.000000     505000.000000      1.684259e+06     896040.000000   \n",
      "\n",
      "       PAYMENT_AMOUNT_4  PAYMENT_AMOUNT_5  PAYMENT_AMOUNT_6  \n",
      "count      19800.000000      19800.000000      19800.000000  \n",
      "mean        4849.301414       4766.921313       5259.505101  \n",
      "std        15489.765788      14775.652597      18047.774868  \n",
      "min            0.000000          0.000000          0.000000  \n",
      "25%          285.000000        255.750000        125.000000  \n",
      "50%         1500.000000       1500.000000       1500.000000  \n",
      "75%         4052.000000       4127.500000       4045.250000  \n",
      "max       528897.000000     426529.000000     528666.000000  \n"
     ]
    }
   ],
   "source": [
    "print np.shape(df_train)\n",
    "\n",
    "print df_train['LIMIT_BAL'].describe()\n",
    "print df_train['AGE'].describe()\n",
    "print df_train[[i for i in df_train.columns if 'REMAINING_AMOUNT' in i]].describe()\n",
    "print df_train[[i for i in df_train.columns if 'PAYMENT' in i]].describe()\n"
   ]
  },
  {
   "cell_type": "markdown",
   "metadata": {},
   "source": [
    "We can see that the balance limit ('LIMIT_BAL') and age columns are missing for some customer. We can choose to delete the customers or impute a value instead of the missing information. What we do depends on the importance of the feature and the number of missing values. For age it is more appropriate to replace missing values with the mean or median of the column. For the balance limit we can choose to delete these customers. \n",
    "\n",
    "We use scikit-learn in order to impute missing values by using **Imputer** function."
   ]
  },
  {
   "cell_type": "code",
   "execution_count": 3,
   "metadata": {
    "collapsed": false
   },
   "outputs": [
    {
     "name": "stdout",
     "output_type": "stream",
     "text": [
      "(19797, 25)\n",
      "count    19797.000000\n",
      "mean        35.539375\n",
      "std          9.216861\n",
      "min         21.000000\n",
      "25%         28.000000\n",
      "50%         34.000000\n",
      "75%         41.000000\n",
      "max         79.000000\n",
      "Name: AGE, dtype: float64\n",
      "count      19797.000000\n",
      "mean      167964.220842\n",
      "std       129539.225759\n",
      "min        10000.000000\n",
      "25%        50000.000000\n",
      "50%       140000.000000\n",
      "75%       240000.000000\n",
      "max      1000000.000000\n",
      "Name: LIMIT_BAL, dtype: float64\n"
     ]
    },
    {
     "name": "stderr",
     "output_type": "stream",
     "text": [
      "C:\\Anaconda2\\lib\\site-packages\\sklearn\\utils\\validation.py:395: DeprecationWarning: Passing 1d arrays as data is deprecated in 0.17 and will raise ValueError in 0.19. Reshape your data either using X.reshape(-1, 1) if your data has a single feature or X.reshape(1, -1) if it contains a single sample.\n",
      "  DeprecationWarning)\n"
     ]
    }
   ],
   "source": [
    "df_train = df_train[df_train['LIMIT_BAL'] >0]\n",
    "\n",
    "from sklearn.preprocessing import Imputer\n",
    "imp = Imputer(missing_values='NaN', strategy='median', axis=1)\n",
    "\n",
    "df_train['AGE'] = imp.fit_transform(df_train['AGE']).transpose()\n",
    "\n",
    "print(np.shape(df_train))\n",
    "print(df_train['AGE'].describe())\n",
    "print df_train['LIMIT_BAL'].describe()\n"
   ]
  },
  {
   "cell_type": "markdown",
   "metadata": {},
   "source": [
    "Now let us examine other columns, which does not feature numbers."
   ]
  },
  {
   "cell_type": "code",
   "execution_count": 4,
   "metadata": {
    "collapsed": false
   },
   "outputs": [
    {
     "name": "stdout",
     "output_type": "stream",
     "text": [
      "count      19797\n",
      "unique         2\n",
      "top       Female\n",
      "freq       11962\n",
      "Name: SEX, dtype: object\n",
      "count          19517\n",
      "unique             3\n",
      "top       University\n",
      "freq            9235\n",
      "Name: EDUCATION, dtype: object\n",
      "count      19555\n",
      "unique         2\n",
      "top       Single\n",
      "freq       10570\n",
      "Name: MARRIAGE, dtype: object\n"
     ]
    }
   ],
   "source": [
    "print df_train['SEX'].describe()\n",
    "print df_train['EDUCATION'].describe()\n",
    "print df_train['MARRIAGE'].describe()"
   ]
  },
  {
   "cell_type": "markdown",
   "metadata": {},
   "source": [
    "Columns for education and marriage have some missing values. It is possible that the lack of information is important. In addition to that, the number of customers with missing values is not small. Instead of using mean and median values we have to find another way of dealing with missing values. So we have to transform these columns by keeping this information and by producing features without missing values.\n",
    "\n",
    "A way to do that is add a flag to missing values. We replace missing values with this flag (for example 'MISSING')."
   ]
  },
  {
   "cell_type": "code",
   "execution_count": 5,
   "metadata": {
    "collapsed": false
   },
   "outputs": [
    {
     "name": "stdout",
     "output_type": "stream",
     "text": [
      "0    MISSING_EDU\n",
      "1    MISSING_EDU\n",
      "2    MISSING_EDU\n",
      "3    MISSING_EDU\n",
      "4     Gradschool\n",
      "Name: EDUCATION, dtype: object\n"
     ]
    }
   ],
   "source": [
    "df_train['EDUCATION'].fillna('MISSING_EDU', inplace = True)\n",
    "df_train['MARRIAGE'].fillna('MISSING_MAR', inplace = True)\n",
    "\n",
    "print(df_train['EDUCATION'].head())"
   ]
  },
  {
   "cell_type": "markdown",
   "metadata": {},
   "source": [
    "So, now a person can be married, single, or unknown (MISSING_MAR) to the company. However, we still cannot use this column for our prediction. In order to do that, we must replace the values with numbers. \n",
    "\n",
    "An important mistake here would be to give numbers to each marital status (0 = married, 1 = single, 2 = missing), especially if the number of possible values is greater than 2. The numbers here are mere representations. In order to use this information, we have to create dummy variables, using **get_dummies** in pandas. "
   ]
  },
  {
   "cell_type": "code",
   "execution_count": 6,
   "metadata": {
    "collapsed": false
   },
   "outputs": [
    {
     "name": "stdout",
     "output_type": "stream",
     "text": [
      "0    MISSING_EDU\n",
      "1    MISSING_EDU\n",
      "2    MISSING_EDU\n",
      "3    MISSING_EDU\n",
      "4     Gradschool\n",
      "Name: EDUCATION, dtype: object\n",
      "   Gradschool  Highschool  MISSING_EDU  University\n",
      "0           0           0            1           0\n",
      "1           0           0            1           0\n",
      "2           0           0            1           0\n",
      "3           0           0            1           0\n",
      "4           1           0            0           0\n",
      "0    Married\n",
      "1     Single\n",
      "2     Single\n",
      "3     Single\n",
      "4     Single\n",
      "Name: MARRIAGE, dtype: object\n",
      "   MISSING_MAR  Married  Single\n",
      "0            0        1       0\n",
      "1            0        0       1\n",
      "2            0        0       1\n",
      "3            0        0       1\n",
      "4            0        0       1\n"
     ]
    }
   ],
   "source": [
    "df_education = df_train[ 'EDUCATION' ]\n",
    "print(df_education.head())\n",
    "df_education = pd.get_dummies(df_education)\n",
    "\n",
    "print(df_education.head())\n",
    "\n",
    "df_marriage = df_train[ 'MARRIAGE' ]\n",
    "print(df_marriage.head())\n",
    "df_marriage = pd.get_dummies(df_marriage)\n",
    "\n",
    "print(df_marriage.head())"
   ]
  },
  {
   "cell_type": "markdown",
   "metadata": {},
   "source": [
    "Next, we create the final dataframe for the prediction. We drop columns on education and marital status and add new columns that we created."
   ]
  },
  {
   "cell_type": "code",
   "execution_count": 7,
   "metadata": {
    "collapsed": false
   },
   "outputs": [
    {
     "name": "stdout",
     "output_type": "stream",
     "text": [
      "   LIMIT_BAL     SEX   AGE  PAYMENT_1  PAYMENT_2  PAYMENT_3  PAYMENT_4  \\\n",
      "0    10000.0    Male  43.0         -1          0          0          0   \n",
      "1    10000.0  Female  24.0         -1          0          0          0   \n",
      "2    10000.0  Female  21.0          0          0          0          0   \n",
      "3    10000.0    Male  35.0          3          2          0          0   \n",
      "4    10000.0    Male  47.0          0          0          0         -1   \n",
      "\n",
      "   PAYMENT_5  PAYMENT_6  REMAINING_AMOUNT_1   ...    PAYMENT_AMOUNT_5  \\\n",
      "0         -1         -1               17560   ...                   0   \n",
      "1          0         -1                5742   ...                   0   \n",
      "2          0         -1                7691   ...                   0   \n",
      "3          0         -1               10281   ...                   0   \n",
      "4         -1         -1                7968   ...                 738   \n",
      "\n",
      "   PAYMENT_AMOUNT_6  default  Gradschool  Highschool  MISSING_EDU  University  \\\n",
      "0                 0        1           0           0            1           0   \n",
      "1                 0        0           0           0            1           0   \n",
      "2                 0        0           0           0            1           0   \n",
      "3                 0        0           0           0            1           0   \n",
      "4                 0        0           1           0            0           0   \n",
      "\n",
      "   MISSING_MAR  Married  Single  \n",
      "0            0        1       0  \n",
      "1            0        0       1  \n",
      "2            0        0       1  \n",
      "3            0        0       1  \n",
      "4            0        0       1  \n",
      "\n",
      "[5 rows x 29 columns]\n"
     ]
    }
   ],
   "source": [
    "df_train.drop(['CUSTOMER_ID', 'EDUCATION', 'MARRIAGE'] , axis=1, inplace=True)\n",
    "\n",
    "df_train = pd.concat([df_train, df_education, df_marriage], axis=1)\n",
    "\n",
    "print(df_train.head())"
   ]
  },
  {
   "cell_type": "markdown",
   "metadata": {},
   "source": [
    "We do the same thing for the sex column (in a different way)."
   ]
  },
  {
   "cell_type": "code",
   "execution_count": 8,
   "metadata": {
    "collapsed": true
   },
   "outputs": [],
   "source": [
    "df_train['MALE'] = (df_train.SEX == 'Male')*1\n",
    "df_train['FEMALE'] = (df_train.SEX == 'Female')*1\n",
    "df_train.drop('SEX', axis=1, inplace=True)"
   ]
  },
  {
   "cell_type": "markdown",
   "metadata": {},
   "source": [
    "Finally, we are going to create some more features. Each customer has a balance limit for their credit card and it might carry some information. As someone gets older, probably the limit will also increase. So in addition to these features, let us create a new feature called 'LIMIT_PER_AGE' by dividing the balance to age. Among two customers with the same balance, a younger one might be more lucrative, earning more money.\n",
    "\n",
    "In addition to that, the relation between the amount you owe to the bank and your limit can also be important. Among two people owing the same amount, the one with higher limit (or higher income) must be a safer customer. Therefore, we divide REMAINING_AMOUNT_1 to LIMIT_BAL."
   ]
  },
  {
   "cell_type": "code",
   "execution_count": 9,
   "metadata": {
    "collapsed": true
   },
   "outputs": [],
   "source": [
    "df_train['LIMIT_PER_AGE'] = df_train['LIMIT_BAL'] / df_train['AGE']\n",
    "df_train['RELATIVE_REMAINING_AMOUNT'] = df_train['REMAINING_AMOUNT_1'] / df_train['LIMIT_BAL']\n"
   ]
  },
  {
   "cell_type": "markdown",
   "metadata": {},
   "source": [
    "Next we also create test data using the same steps."
   ]
  },
  {
   "cell_type": "code",
   "execution_count": 10,
   "metadata": {
    "collapsed": false
   },
   "outputs": [
    {
     "name": "stderr",
     "output_type": "stream",
     "text": [
      "C:\\Anaconda2\\lib\\site-packages\\sklearn\\utils\\validation.py:395: DeprecationWarning: Passing 1d arrays as data is deprecated in 0.17 and will raise ValueError in 0.19. Reshape your data either using X.reshape(-1, 1) if your data has a single feature or X.reshape(1, -1) if it contains a single sample.\n",
      "  DeprecationWarning)\n"
     ]
    }
   ],
   "source": [
    "df_test = pd.read_excel('Credit_Scoring_test.xls')\n",
    "df_test['AGE'] = imp.transform(df_test['AGE']).transpose()\n",
    "\n",
    "df_test['EDUCATION'].fillna('MISSING_EDU', inplace = True)\n",
    "df_test['MARRIAGE'].fillna('MISSING_MAR', inplace = True)\n",
    "\n",
    "df_education = df_test[ 'EDUCATION' ]\n",
    "df_education = pd.get_dummies(df_education)\n",
    "\n",
    "df_marriage = df_test[ 'MARRIAGE' ]\n",
    "df_marriage = pd.get_dummies(df_marriage)\n",
    "\n",
    "df_test.drop(['CUSTOMER_ID', 'EDUCATION', 'MARRIAGE'] , axis=1, inplace=True)\n",
    "\n",
    "df_test = pd.concat([df_test, df_education, df_marriage], axis=1)\n",
    "\n",
    "df_test['LIMIT_PER_AGE'] = df_test['LIMIT_BAL'] / df_test['AGE']\n",
    "df_test['RELATIVE_REMAINING_AMOUNT'] = df_test['REMAINING_AMOUNT_1'] / df_test['LIMIT_BAL']\n",
    "\n",
    "df_test['MALE'] = (df_test.SEX == 'Male')*1\n",
    "df_test['FEMALE'] = (df_test.SEX == 'Female')*1\n",
    "df_test.drop('SEX', axis=1, inplace=True)\n",
    "\n",
    "df_test = df_test[df_train.columns]"
   ]
  },
  {
   "cell_type": "markdown",
   "metadata": {},
   "source": [
    "# Classification and Evaluation\n",
    "\n",
    "We try several classifiers to study credit scores. First, we separate the target values in the dataframes."
   ]
  },
  {
   "cell_type": "code",
   "execution_count": 11,
   "metadata": {
    "collapsed": false
   },
   "outputs": [],
   "source": [
    "y_train = df_train.default\n",
    "y_test = df_test.default\n",
    "\n",
    "df_train.drop('default', axis=1, inplace=True)\n",
    "df_test.drop('default', axis=1, inplace=True)"
   ]
  },
  {
   "cell_type": "markdown",
   "metadata": {},
   "source": [
    "Let us use three classifiers. I choose decision trees, random forests and gradient boosting. You can choose different classifiers such as logistic regression. We create and train these classifiers with default arguments."
   ]
  },
  {
   "cell_type": "code",
   "execution_count": 12,
   "metadata": {
    "collapsed": false
   },
   "outputs": [
    {
     "data": {
      "text/plain": [
       "GradientBoostingClassifier(criterion='friedman_mse', init=None,\n",
       "              learning_rate=0.1, loss='deviance', max_depth=3,\n",
       "              max_features=None, max_leaf_nodes=None,\n",
       "              min_impurity_split=1e-07, min_samples_leaf=1,\n",
       "              min_samples_split=2, min_weight_fraction_leaf=0.0,\n",
       "              n_estimators=100, presort='auto', random_state=None,\n",
       "              subsample=1.0, verbose=0, warm_start=False)"
      ]
     },
     "execution_count": 12,
     "metadata": {},
     "output_type": "execute_result"
    }
   ],
   "source": [
    "from sklearn.tree import DecisionTreeClassifier\n",
    "from sklearn.ensemble import RandomForestClassifier, GradientBoostingClassifier\n",
    "dt = DecisionTreeClassifier()\n",
    "dt.fit(df_train,y_train)\n",
    "\n",
    "rf = RandomForestClassifier()\n",
    "rf.fit(df_train,y_train)\n",
    "\n",
    "gbc = GradientBoostingClassifier()\n",
    "gbc.fit(df_train,y_train)"
   ]
  },
  {
   "cell_type": "markdown",
   "metadata": {},
   "source": [
    "Now we can test our results."
   ]
  },
  {
   "cell_type": "code",
   "execution_count": 13,
   "metadata": {
    "collapsed": false,
    "scrolled": true
   },
   "outputs": [
    {
     "name": "stdout",
     "output_type": "stream",
     "text": [
      "Decision Tree\n",
      "Accuracy\n",
      "0.72068627451\n",
      "AUC score\n",
      "0.608689145179\n",
      "Confusion Matrix\n",
      "[[6422 1479]\n",
      " [1370  929]]\n",
      "Random Forest\n",
      "Accuracy\n",
      "0.798529411765\n",
      "AUC score\n",
      "0.727293509683\n",
      "Confusion Matrix\n",
      "[[7452  449]\n",
      " [1606  693]]\n",
      "Gradient Boosting\n",
      "Accuracy\n",
      "0.817549019608\n",
      "AUC score\n",
      "0.776686968834\n",
      "Confusion Matrix\n",
      "[[7488  413]\n",
      " [1448  851]]\n"
     ]
    }
   ],
   "source": [
    "from sklearn.metrics import accuracy_score, roc_auc_score, roc_curve, confusion_matrix\n",
    "\n",
    "print 'Decision Tree'\n",
    "print 'Accuracy'\n",
    "print(accuracy_score(y_test, dt.predict(df_test)))\n",
    "print 'AUC score'\n",
    "print(roc_auc_score(y_test, dt.predict_proba(df_test)[:,1]))\n",
    "print 'Confusion Matrix'\n",
    "print(confusion_matrix(y_test, dt.predict(df_test)))\n",
    "\n",
    "print 'Random Forest'\n",
    "print 'Accuracy'\n",
    "print(accuracy_score(y_test, rf.predict(df_test)))\n",
    "print 'AUC score'\n",
    "print(roc_auc_score(y_test, rf.predict_proba(df_test)[:,1]))\n",
    "print 'Confusion Matrix'\n",
    "print(confusion_matrix(y_test, rf.predict(df_test)))\n",
    "\n",
    "print 'Gradient Boosting'\n",
    "print 'Accuracy'\n",
    "print(accuracy_score(y_test, gbc.predict(df_test)))\n",
    "print 'AUC score'\n",
    "print(roc_auc_score(y_test, gbc.predict_proba(df_test)[:,1]))\n",
    "print 'Confusion Matrix'\n",
    "print(confusion_matrix(y_test, gbc.predict(df_test)))"
   ]
  },
  {
   "cell_type": "markdown",
   "metadata": {},
   "source": [
    "Instead of writing the same piece of code for all classifiers, can you write a function for evaluating classifiers?"
   ]
  },
  {
   "cell_type": "code",
   "execution_count": 14,
   "metadata": {
    "collapsed": false
   },
   "outputs": [
    {
     "name": "stdout",
     "output_type": "stream",
     "text": [
      "DecisionTreeClassifier(class_weight=None, criterion='gini', max_depth=None,\n",
      "            max_features=None, max_leaf_nodes=None,\n",
      "            min_impurity_split=1e-07, min_samples_leaf=1,\n",
      "            min_samples_split=2, min_weight_fraction_leaf=0.0,\n",
      "            presort=False, random_state=None, splitter='best')\n",
      "Accuracy\n",
      "0.719705882353\n",
      "AUC score\n",
      "0.606305966963\n",
      "Confusion Matrix\n",
      "[[6424 1477]\n",
      " [1382  917]]\n"
     ]
    }
   ],
   "source": [
    "def evaluate(clf, X_train, y_train, X_test, y_test):\n",
    "    clf.fit(X_train,y_train)\n",
    "    y_pred = clf.predict(X_test)\n",
    "    y_pred_proba = clf.predict_proba(X_test)\n",
    "    print clf\n",
    "    print 'Accuracy'\n",
    "    print(accuracy_score(y_test, y_pred))\n",
    "    print 'AUC score'\n",
    "    print(roc_auc_score(y_test, y_pred_proba[:,1]))\n",
    "    print 'Confusion Matrix'\n",
    "    print(confusion_matrix(y_test, y_pred))\n",
    "\n",
    "dt = DecisionTreeClassifier()\n",
    "evaluate(dt, df_train, y_train, df_test, y_test)\n"
   ]
  },
  {
   "cell_type": "markdown",
   "metadata": {},
   "source": [
    "Now let us compare three methods by using ROC curve. Which approach is better?"
   ]
  },
  {
   "cell_type": "code",
   "execution_count": 15,
   "metadata": {
    "collapsed": false
   },
   "outputs": [
    {
     "data": {
      "image/png": "[encoded data removed]",
      "text/plain": [
       "<matplotlib.figure.Figure at 0x9c80898>"
      ]
     },
     "metadata": {},
     "output_type": "display_data"
    }
   ],
   "source": [
    "a_dt , b_dt, c_dt = roc_curve(y_test,dt.predict_proba(df_test)[:,1])\n",
    "a_rf , b_rf, c_rf = roc_curve(y_test,rf.predict_proba(df_test)[:,1])\n",
    "a_gbc , b_gbc, c_gbc = roc_curve(y_test,gbc.predict_proba(df_test)[:,1])\n",
    "\n",
    "plt.figure(figsize=(10,10))\n",
    "\n",
    "plt.plot(a_dt,b_dt, c='red', label = 'Decision Tree', linewidth = 3)\n",
    "plt.plot(a_rf,b_rf, c='blue', label = 'Random Forests', linewidth = 3)\n",
    "plt.plot(a_gbc,b_gbc, c='black', label = 'Gradient Boosting', linewidth = 3)\n",
    "plt.title('Area Under Curve', fontsize = 16)\n",
    "plt.ylabel('True positive rate', fontsize = 14)\n",
    "plt.xlabel('1 - True negative rate', fontsize = 14)\n",
    "\n",
    "plt.legend(loc = 4)\n",
    "plt.show()"
   ]
  },
  {
   "cell_type": "markdown",
   "metadata": {},
   "source": [
    "Area under curve provies information on the compromise between true positive rate (correctly classified defaulting customers) and the true negative rate (correctly classified non-defaulting customers). In the figure above if the true positive rate is 0, then the true negative rate is 1 (all customers are classified as non-default). In other words, if we classify every customer as non-defaulting, we correctly guess all non-defaulting customers, but we miss all of the defaulting customers. In the other extreme if the true positive rate is 1, the true negative rate is 0 (all customers are classified as default). For the gradient boosting if we guess 40% of defaulting customers (true positive rate is 0.4) we miss approximately 5-10% of non-defaulting customers (1 - true negative rate is around 0.05 and 0.1). The same value goes to more than 10% for random forests and to almost 20% for decision trees."
   ]
  },
  {
   "cell_type": "markdown",
   "metadata": {},
   "source": [
    "# Fine Tuning\n",
    "\n",
    "If you visit the corresponding web page for the classifiers that we use, you can see there are several parameters to play with. We are going to change the number of estimators and see how our method perform with different number of estimators for training and testing data. We use roc_auc_score to select the best approach.\n",
    "\n",
    "First, we want to select **n_estimators** in Gradient Boosting. We train the method using 1000 estimators."
   ]
  },
  {
   "cell_type": "code",
   "execution_count": 16,
   "metadata": {
    "collapsed": false
   },
   "outputs": [
    {
     "name": "stdout",
     "output_type": "stream",
     "text": [
      "      Iter       Train Loss   Remaining Time \n",
      "         1           1.0137           37.98s\n",
      "         2           0.9862           49.95s\n",
      "         3           0.9651           54.58s\n",
      "         4           0.9482           56.39s\n",
      "         5           0.9347           57.46s\n",
      "         6           0.9229           58.16s\n",
      "         7           0.9127            1.04m\n",
      "         8           0.9040            1.07m\n",
      "         9           0.8969            1.05m\n",
      "        10           0.8905            1.06m\n",
      "        20           0.8583            1.14m\n",
      "        30           0.8446            1.18m\n",
      "        40           0.8352            1.26m\n",
      "        50           0.8286            1.24m\n",
      "        60           0.8237            1.23m\n",
      "        70           0.8191            1.21m\n",
      "        80           0.8155            1.20m\n",
      "        90           0.8120            1.19m\n",
      "       100           0.8091            1.18m\n",
      "       200           0.7814            1.11m\n",
      "       300           0.7564            1.05m\n",
      "       400           0.7343           58.21s\n",
      "       500           0.7128           54.38s\n",
      "       600           0.6928           50.66s\n",
      "       700           0.6735           46.97s\n",
      "       800           0.6540           43.97s\n",
      "       900           0.6374           40.70s\n",
      "      1000           0.6215           37.06s\n",
      "      2000           0.4903            0.00s\n"
     ]
    },
    {
     "data": {
      "text/plain": [
       "GradientBoostingClassifier(criterion='friedman_mse', init=None,\n",
       "              learning_rate=0.1, loss='deviance', max_depth=3,\n",
       "              max_features=None, max_leaf_nodes=None,\n",
       "              min_impurity_split=1e-07, min_samples_leaf=1,\n",
       "              min_samples_split=2, min_weight_fraction_leaf=0.0,\n",
       "              n_estimators=2000, presort='auto', random_state=None,\n",
       "              subsample=1.0, verbose=1, warm_start=False)"
      ]
     },
     "execution_count": 16,
     "metadata": {},
     "output_type": "execute_result"
    }
   ],
   "source": [
    "n_estimators = 2000\n",
    "gbc = GradientBoostingClassifier(n_estimators=n_estimators, verbose = 1)\n",
    "gbc.fit(df_train,y_train)"
   ]
  },
  {
   "cell_type": "code",
   "execution_count": null,
   "metadata": {
    "collapsed": true
   },
   "outputs": [],
   "source": []
  },
  {
   "cell_type": "raw",
   "metadata": {},
   "source": [
    "At each iteration, we build an additional decision tree. Let us see how roc_auc_score changes with each iteration. We have to use **staged_predict_proba** function to obtain results for each iteration. We do it for training and testing data."
   ]
  },
  {
   "cell_type": "code",
   "execution_count": 17,
   "metadata": {
    "collapsed": false
   },
   "outputs": [
    {
     "data": {
      "image/png": "[encoded data removed]",
      "text/plain": [
       "<matplotlib.figure.Figure at 0xa379d68>"
      ]
     },
     "metadata": {},
     "output_type": "display_data"
    }
   ],
   "source": [
    "score = np.zeros(n_estimators)\n",
    "for i, y_pred in enumerate(gbc.staged_predict_proba(df_test)):\n",
    "    score[i] = roc_auc_score(y_test, y_pred[:,1])\n",
    "\n",
    "score_train = np.zeros(n_estimators)\n",
    "for i, y_pred in enumerate(gbc.staged_predict_proba(df_train)):\n",
    "    score_train[i] = roc_auc_score(y_train, y_pred[:,1])\n",
    "    \n",
    "plt.figure(figsize=(10,5))\n",
    "plt.plot(score, c= 'blue', label = 'Testing')\n",
    "plt.plot(score_train, c= 'red', label = 'Training')\n",
    "plt.legend()\n",
    "plt.ylim((0.5,1))\n",
    "plt.show()"
   ]
  },
  {
   "cell_type": "markdown",
   "metadata": {},
   "source": [
    "We can see that we obtain the best results for around 30 estimators. As the number of estimators increases roc_auc_score goes down for the testing data. However, it increases for the training data. As the number of estimators increases, we tend to overfit.\n",
    "\n",
    "To carry a similar study for random forests, we have to use a different approach. Random forests are not iterative like gradient boosting method. So it does not have staged_predict functionality. For this reason, we have to use other means of parameter selection. Luckily there is Grid Search module, which helps us select the best parameters for the classifier."
   ]
  },
  {
   "cell_type": "code",
   "execution_count": 25,
   "metadata": {
    "collapsed": false
   },
   "outputs": [
    {
     "name": "stdout",
     "output_type": "stream",
     "text": [
      "GridSearchCV took 151.93 seconds for 27 candidate parameter settings.\n"
     ]
    },
    {
     "name": "stderr",
     "output_type": "stream",
     "text": [
      "C:\\Anaconda2\\lib\\site-packages\\sklearn\\model_selection\\_search.py:667: DeprecationWarning: The grid_scores_ attribute was deprecated in version 0.18 in favor of the more elaborate cv_results_ attribute. The grid_scores_ attribute will not be available from 0.20\n",
      "  DeprecationWarning)\n"
     ]
    }
   ],
   "source": [
    "from sklearn.model_selection import GridSearchCV\n",
    "from time import time \n",
    "# specify parameters and distributions to sample from\n",
    "parameters = {\"max_depth\": [3, 5, 10],\n",
    "              \"min_samples_leaf\": [20, 50, 100],\n",
    "              \"n_estimators\": [50, 100, 200]}\n",
    "\n",
    "rf = RandomForestClassifier()\n",
    "grid_search = GridSearchCV(rf, param_grid=parameters, scoring = 'roc_auc')\n",
    "start = time()\n",
    "grid_search.fit(df_train, y_train)\n",
    "\n",
    "print(\"GridSearchCV took %.2f seconds for %d candidate parameter settings.\"\n",
    "      % (time() - start, len(grid_search.grid_scores_)))\n",
    "\n",
    "\n"
   ]
  },
  {
   "cell_type": "code",
   "execution_count": 26,
   "metadata": {
    "collapsed": false
   },
   "outputs": [
    {
     "name": "stdout",
     "output_type": "stream",
     "text": [
      "RandomForestClassifier(bootstrap=True, class_weight=None, criterion='gini',\n",
      "            max_depth=3, max_features='auto', max_leaf_nodes=None,\n",
      "            min_impurity_split=1e-07, min_samples_leaf=100,\n",
      "            min_samples_split=2, min_weight_fraction_leaf=0.0,\n",
      "            n_estimators=50, n_jobs=1, oob_score=False, random_state=None,\n",
      "            verbose=0, warm_start=False)\n",
      "0.770970277028\n",
      "0.766103381675\n"
     ]
    }
   ],
   "source": [
    "print grid_search.best_estimator_\n",
    "print grid_search.best_score_\n",
    "\n",
    "print roc_auc_score(y_test, grid_search.best_estimator_.predict_proba(df_test)[:,1])"
   ]
  },
  {
   "cell_type": "markdown",
   "metadata": {},
   "source": [
    "We can see that, we improved the performance of random forest by tuning the parameters. Can we also do it for decision trees?"
   ]
  },
  {
   "cell_type": "code",
   "execution_count": 27,
   "metadata": {
    "collapsed": false
   },
   "outputs": [
    {
     "name": "stdout",
     "output_type": "stream",
     "text": [
      "Decision Tree\n",
      "Accuracy\n",
      "0.812843137255\n",
      "AUC score\n",
      "0.743795156669\n",
      "Confusion Matrix\n",
      "[[7421  480]\n",
      " [1429  870]]\n"
     ]
    }
   ],
   "source": [
    "dt = DecisionTreeClassifier(min_samples_leaf=50)\n",
    "dt.fit(df_train,y_train)\n",
    "\n",
    "print 'Decision Tree'\n",
    "print 'Accuracy'\n",
    "print(accuracy_score(y_test, dt.predict(df_test)))\n",
    "print 'AUC score'\n",
    "print(roc_auc_score(y_test, dt.predict_proba(df_test)[:,1]))\n",
    "print 'Confusion Matrix'\n",
    "print(confusion_matrix(y_test, dt.predict(df_test)))\n",
    "\n",
    "from sklearn.tree import export_graphviz\n",
    "\n",
    "export_graphviz(dt, out_file='Tree.dot', feature_names= df_train.columns)\n"
   ]
  },
  {
   "cell_type": "markdown",
   "metadata": {},
   "source": [
    "You can transform dot file into a tree figure by using graphviz or do it online at: https://stamm-wilbrandt.de/GraphvizFiddle/"
   ]
  },
  {
   "cell_type": "markdown",
   "metadata": {},
   "source": [
    "# Feature Importances and Feature Selection\n",
    "\n",
    "Between gradient boosting, random forests and decision trees, gradient boosting perform better than others. Now, we are able to predict future customers and their risk status. It is now time to study the factors affecting the risk status of customers. For this purpose, we use **feature\\_importances\\_** attribute of the classifier. We also would like to visualize the importance of features."
   ]
  },
  {
   "cell_type": "code",
   "execution_count": 28,
   "metadata": {
    "collapsed": false
   },
   "outputs": [
    {
     "name": "stdout",
     "output_type": "stream",
     "text": [
      "[ 0.02027731  0.04230809  0.02471233  0.01238447  0.01196166  0.01074688\n",
      "  0.00893584  0.00921818  0.08010502  0.0619892   0.06279695  0.04757918\n",
      "  0.06010299  0.0581618   0.05146724  0.05441397  0.05021275  0.04578835\n",
      "  0.04078601  0.04984994  0.00293597  0.00337377  0.00177522  0.00247517\n",
      "  0.00395407  0.00223867  0.0035699   0.00218323  0.00187147  0.07660318\n",
      "  0.09522119]\n",
      "                           Importance\n",
      "LIMIT_BAL                    0.020277\n",
      "AGE                          0.042308\n",
      "PAYMENT_1                    0.024712\n",
      "PAYMENT_2                    0.012384\n",
      "PAYMENT_3                    0.011962\n",
      "PAYMENT_4                    0.010747\n",
      "PAYMENT_5                    0.008936\n",
      "PAYMENT_6                    0.009218\n",
      "REMAINING_AMOUNT_1           0.080105\n",
      "REMAINING_AMOUNT_2           0.061989\n",
      "REMAINING_AMOUNT_3           0.062797\n",
      "REMAINING_AMOUNT_4           0.047579\n",
      "REMAINING_AMOUNT_5           0.060103\n",
      "REMAINING_AMOUNT_6           0.058162\n",
      "PAYMENT_AMOUNT_1             0.051467\n",
      "PAYMENT_AMOUNT_2             0.054414\n",
      "PAYMENT_AMOUNT_3             0.050213\n",
      "PAYMENT_AMOUNT_4             0.045788\n",
      "PAYMENT_AMOUNT_5             0.040786\n",
      "PAYMENT_AMOUNT_6             0.049850\n",
      "Gradschool                   0.002936\n",
      "Highschool                   0.003374\n",
      "MISSING_EDU                  0.001775\n",
      "University                   0.002475\n",
      "MISSING_MAR                  0.003954\n",
      "Married                      0.002239\n",
      "Single                       0.003570\n",
      "MALE                         0.002183\n",
      "FEMALE                       0.001871\n",
      "LIMIT_PER_AGE                0.076603\n",
      "RELATIVE_REMAINING_AMOUNT    0.095221\n"
     ]
    },
    {
     "data": {
      "image/png": "[encoded data removed]",
      "text/plain": [
       "<matplotlib.figure.Figure at 0xb0759e8>"
      ]
     },
     "metadata": {},
     "output_type": "display_data"
    }
   ],
   "source": [
    "# Plot feature importance\n",
    "feature_importance = gbc.feature_importances_\n",
    "\n",
    "print(feature_importance)\n",
    "\n",
    "df_features = pd.DataFrame(feature_importance)\n",
    "df_features.columns = ['Importance']\n",
    "df_features.index = df_train.columns\n",
    "print(df_features)\n",
    "# make importances relative to max importance\n",
    "feature_importance = 100.0 * (feature_importance / feature_importance.max())\n",
    "sorted_idx = np.argsort(feature_importance)\n",
    "pos = np.arange(sorted_idx.shape[0]) + .5\n",
    "plt.figure(figsize=(10,15))\n",
    "plt.barh(pos, feature_importance[sorted_idx], align='center')\n",
    "plt.yticks(pos, df_train.columns[sorted_idx])\n",
    "plt.xlabel('Relative Importance')\n",
    "plt.title('Variable Importance')\n",
    "plt.show()"
   ]
  },
  {
   "cell_type": "markdown",
   "metadata": {},
   "source": [
    "We can see that almost half of the features are not very useful for prediction. However, the features that we created seem to be quite useful. Let us see whether we can eliminate these features and still perform reasonably close. again scikit-learn has feature elimination modules for this purpose. We are going to use recursive feature elimination (**RFE**)."
   ]
  },
  {
   "cell_type": "code",
   "execution_count": 29,
   "metadata": {
    "collapsed": false
   },
   "outputs": [
    {
     "name": "stdout",
     "output_type": "stream",
     "text": [
      "[False False  True False  True  True  True  True  True False False False\n",
      " False False  True  True False False False False False False False False\n",
      " False False False False False  True  True]\n",
      "Index([                u'PAYMENT_1',                 u'PAYMENT_3',\n",
      "                       u'PAYMENT_4',                 u'PAYMENT_5',\n",
      "                       u'PAYMENT_6',        u'REMAINING_AMOUNT_1',\n",
      "                u'PAYMENT_AMOUNT_1',          u'PAYMENT_AMOUNT_2',\n",
      "                   u'LIMIT_PER_AGE', u'RELATIVE_REMAINING_AMOUNT'],\n",
      "      dtype='object')\n"
     ]
    }
   ],
   "source": [
    "from sklearn.feature_selection import RFE\n",
    "\n",
    "\n",
    "\n",
    "clf = GradientBoostingClassifier(n_estimators = 30)\n",
    "selector = RFE(clf, n_features_to_select= 10, step=2)\n",
    "selector = selector.fit(df_train, y_train)\n",
    "print(selector.support_)\n",
    "print(df_train.columns[selector.support_])\n"
   ]
  },
  {
   "cell_type": "markdown",
   "metadata": {},
   "source": [
    "We know which 10 features are the most informative. Let us carry the analysis using these features."
   ]
  },
  {
   "cell_type": "code",
   "execution_count": 30,
   "metadata": {
    "collapsed": false
   },
   "outputs": [
    {
     "name": "stdout",
     "output_type": "stream",
     "text": [
      "GradientBoostingClassifier(criterion='friedman_mse', init=None,\n",
      "              learning_rate=0.1, loss='deviance', max_depth=3,\n",
      "              max_features=None, max_leaf_nodes=None,\n",
      "              min_impurity_split=1e-07, min_samples_leaf=1,\n",
      "              min_samples_split=2, min_weight_fraction_leaf=0.0,\n",
      "              n_estimators=30, presort='auto', random_state=None,\n",
      "              subsample=1.0, verbose=0, warm_start=False)\n",
      "Accuracy\n",
      "0.818039215686\n",
      "AUC score\n",
      "0.773695733066\n",
      "Confusion Matrix\n",
      "[[7517  384]\n",
      " [1472  827]]\n"
     ]
    }
   ],
   "source": [
    "df_train_rfe = selector.transform(df_train)\n",
    "df_test_rfe = selector.transform(df_test)\n",
    "\n",
    "evaluate(clf, df_train_rfe, y_train, df_test_rfe, y_test)"
   ]
  },
  {
   "cell_type": "markdown",
   "metadata": {},
   "source": [
    "We almost obtain the same results using only 10 features. Feature selection is very useful when dealing with a large number of attributes. It might even improve your results."
   ]
  },
  {
   "cell_type": "markdown",
   "metadata": {},
   "source": [
    "# Scaling (Optional)"
   ]
  },
  {
   "cell_type": "markdown",
   "metadata": {},
   "source": [
    "For some algorithms it is necessary to scale data in order to get meaningful results (such as linear regression). In that case we can use **StandardScaler** function of preprocessing module. However tree based algorithms do not require this step. "
   ]
  },
  {
   "cell_type": "code",
   "execution_count": 31,
   "metadata": {
    "collapsed": false
   },
   "outputs": [],
   "source": [
    "from sklearn.preprocessing import StandardScaler\n",
    "\n",
    "scaler = StandardScaler()\n",
    "\n",
    "df_train_scaled = scaler.fit_transform(df_train)\n",
    "\n",
    "df_test_scaled = scaler.transform(df_test)\n"
   ]
  },
  {
   "cell_type": "markdown",
   "metadata": {
    "collapsed": true
   },
   "source": [
    "# References\n",
    "Yeh, I. C., & Lien, C. H. (2009). The comparisons of data mining techniques for the predictive accuracy of probability of default of credit card clients. Expert Systems with Applications, 36(2), 2473-2480."
   ]
  },
  {
   "cell_type": "code",
   "execution_count": null,
   "metadata": {
    "collapsed": true
   },
   "outputs": [],
   "source": []
  }
 ],
 "metadata": {
  "anaconda-cloud": {},
  "kernelspec": {
   "display_name": "Python [Root]",
   "language": "python",
   "name": "Python [Root]"
  },
  "language_info": {
   "codemirror_mode": {
    "name": "ipython",
    "version": 2
   },
   "file_extension": ".py",
   "mimetype": "text/x-python",
   "name": "python",
   "nbconvert_exporter": "python",
   "pygments_lexer": "ipython2",
   "version": "2.7.12"
  }
 },
 "nbformat": 4,
 "nbformat_minor": 0
}
